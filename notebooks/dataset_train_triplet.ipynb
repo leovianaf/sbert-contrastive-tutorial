{
 "cells": [
  {
   "cell_type": "markdown",
   "id": "57b887e0",
   "metadata": {},
   "source": [
    "# Adapatar dataset de treino para treinar com Triplet Loss\n",
    "\n",
    "Isso é devido a estrutura esperada por cada tipo de loss:\n",
    "\n",
    "| **Tipo de Loss**         | **Estrutura esperada**                    | **Exemplo**                                                               |\n",
    "|-----------------------|---------------------------------------|-----------------------------------------------------------------------|\n",
    "| CosineSimilarityLoss  | `pares` (sent1, sent2, score)           | “O gato dorme.” / “O felino está dormindo.” → 0.9                     |\n",
    "| TripletLoss\t        | `triplas` (anchor, positive, negative)  | “O gato dorme.” / “O felino está dormindo.” / “O cachorro correu.”    |\n",
    "\n",
    "Ou seja:\n",
    "- **Cosine** aprende graus de similaridade contínuos (0–5, ou 0–1).\n",
    "- **Triplet** aprende relações relativas (“A é mais parecido com B do que com C”)."
   ]
  },
  {
   "cell_type": "code",
   "execution_count": 5,
   "id": "76d52522",
   "metadata": {},
   "outputs": [
    {
     "name": "stdout",
     "output_type": "stream",
     "text": [
      "✅ Geradas 348 triplas.\n"
     ]
    }
   ],
   "source": [
    "import pandas as pd\n",
    "import random\n",
    "\n",
    "df = pd.read_csv(\"../data/train.csv\")\n",
    "\n",
    "# Pares positivos: label == 1\n",
    "# Pares negativos: label == 0\n",
    "positivos = df[df['label'] == 1]\n",
    "negativos = df[df['label'] == 0]\n",
    "\n",
    "triplets = []\n",
    "for _, row in positivos.iterrows():\n",
    "    anchor = row['question']\n",
    "    positive = row['answer']\n",
    "\n",
    "    # escolhe um negativo aleatório\n",
    "    neg = negativos.sample(1).iloc[0]['answer']\n",
    "    triplets.append((anchor, positive, neg))\n",
    "\n",
    "df_triplet = pd.DataFrame(triplets, columns=['anchor', 'positive', 'negative'])\n",
    "df_triplet.to_csv(\"../data/train_triplet.csv\", index=False)\n",
    "\n",
    "print(f\"✅ Geradas {len(df_triplet)} triplas.\")"
   ]
  },
  {
   "cell_type": "markdown",
   "id": "fda1cf11",
   "metadata": {},
   "source": [
    "## Turbinando dados de treino\n",
    "\n",
    "Criando `k` triplas por par positivo (label==1)."
   ]
  },
  {
   "cell_type": "code",
   "execution_count": 7,
   "id": "4560f5f6",
   "metadata": {},
   "outputs": [
    {
     "name": "stdout",
     "output_type": "stream",
     "text": [
      "> Total de 1740 triplas.\n"
     ]
    }
   ],
   "source": [
    "import pandas as pd\n",
    "df = pd.read_csv(\"../data/train.csv\")\n",
    "positivos = df[df['label']==1].copy()\n",
    "negativos = df[df['label']==0]['answer'].tolist()\n",
    "\n",
    "k = 5\n",
    "triplets = []\n",
    "for _, row in positivos.iterrows():\n",
    "    A, P = row['question'], row['answer']\n",
    "    for _ in range(k):\n",
    "        N = random.choice(negativos)\n",
    "        if N != A and N != P:\n",
    "            triplets.append((A, P, N))\n",
    "\n",
    "pd.DataFrame(triplets, columns=['anchor','positive','negative']).to_csv(\n",
    "    \"../data/train_triplet.csv\", index=False\n",
    ")\n",
    "print(f\"> Total de {len(triplets)} triplas.\")"
   ]
  }
 ],
 "metadata": {
  "kernelspec": {
   "display_name": "venv (3.12.3)",
   "language": "python",
   "name": "python3"
  },
  "language_info": {
   "codemirror_mode": {
    "name": "ipython",
    "version": 3
   },
   "file_extension": ".py",
   "mimetype": "text/x-python",
   "name": "python",
   "nbconvert_exporter": "python",
   "pygments_lexer": "ipython3",
   "version": "3.12.3"
  }
 },
 "nbformat": 4,
 "nbformat_minor": 5
}
