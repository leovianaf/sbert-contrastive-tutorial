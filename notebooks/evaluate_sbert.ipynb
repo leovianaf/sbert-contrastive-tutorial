{
 "cells": [
  {
   "cell_type": "markdown",
   "metadata": {},
   "source": [
    "# Avaliando o modelo Sentence-BERT com Cosine Similarity Loss\n",
    "\n",
    "Neste notebook, vamos avaliar o modelo treinado anteriormente, calculando a similaridade entre pares de sentenças do conjunto de teste e comparando com o **ground truth** (dataset \"gabarito\")."
   ]
  },
  {
   "cell_type": "markdown",
   "metadata": {},
   "source": [
    "## 1. Instalação e importação"
   ]
  },
  {
   "cell_type": "code",
   "execution_count": 6,
   "metadata": {},
   "outputs": [],
   "source": [
    "import numpy as np\n",
    "import pandas as pd\n",
    "from sklearn.model_selection import train_test_split\n",
    "from sklearn.metrics import mean_squared_error\n",
    "from scipy.stats import spearmanr, pearsonr\n",
    "from sentence_transformers import SentenceTransformer, util"
   ]
  },
  {
   "cell_type": "markdown",
   "metadata": {},
   "source": [
    "## 2. Carregar o modelo e os dados"
   ]
  },
  {
   "cell_type": "code",
   "execution_count": 7,
   "metadata": {},
   "outputs": [
    {
     "name": "stdout",
     "output_type": "stream",
     "text": [
      "🔹 Total de pares de teste: 1208\n"
     ]
    },
    {
     "data": {
      "text/html": [
       "<div>\n",
       "<style scoped>\n",
       "    .dataframe tbody tr th:only-of-type {\n",
       "        vertical-align: middle;\n",
       "    }\n",
       "\n",
       "    .dataframe tbody tr th {\n",
       "        vertical-align: top;\n",
       "    }\n",
       "\n",
       "    .dataframe thead th {\n",
       "        text-align: right;\n",
       "    }\n",
       "</style>\n",
       "<table border=\"1\" class=\"dataframe\">\n",
       "  <thead>\n",
       "    <tr style=\"text-align: right;\">\n",
       "      <th></th>\n",
       "      <th>id</th>\n",
       "      <th>sentence1</th>\n",
       "      <th>sentence2</th>\n",
       "    </tr>\n",
       "  </thead>\n",
       "  <tbody>\n",
       "    <tr>\n",
       "      <th>0</th>\n",
       "      <td>0</td>\n",
       "      <td>A man is singing and playing a guitar.</td>\n",
       "      <td>A man is playing a guitar.</td>\n",
       "    </tr>\n",
       "    <tr>\n",
       "      <th>1</th>\n",
       "      <td>1</td>\n",
       "      <td>Suarez set for Cup comeback</td>\n",
       "      <td>French set for Mali ground combat</td>\n",
       "    </tr>\n",
       "    <tr>\n",
       "      <th>2</th>\n",
       "      <td>2</td>\n",
       "      <td>It's not a good idea.</td>\n",
       "      <td>It's a good question.</td>\n",
       "    </tr>\n",
       "    <tr>\n",
       "      <th>3</th>\n",
       "      <td>3</td>\n",
       "      <td>Selenski had previously spent seven years in p...</td>\n",
       "      <td>Selenski had served about seven years in priso...</td>\n",
       "    </tr>\n",
       "    <tr>\n",
       "      <th>4</th>\n",
       "      <td>4</td>\n",
       "      <td>Russia claims to have foiled possible terror act</td>\n",
       "      <td>Russia says ballistic 'objects' fired in Medit...</td>\n",
       "    </tr>\n",
       "  </tbody>\n",
       "</table>\n",
       "</div>"
      ],
      "text/plain": [
       "   id                                          sentence1  \\\n",
       "0   0             A man is singing and playing a guitar.   \n",
       "1   1                        Suarez set for Cup comeback   \n",
       "2   2                              It's not a good idea.   \n",
       "3   3  Selenski had previously spent seven years in p...   \n",
       "4   4   Russia claims to have foiled possible terror act   \n",
       "\n",
       "                                           sentence2  \n",
       "0                         A man is playing a guitar.  \n",
       "1                  French set for Mali ground combat  \n",
       "2                              It's a good question.  \n",
       "3  Selenski had served about seven years in priso...  \n",
       "4  Russia says ballistic 'objects' fired in Medit...  "
      ]
     },
     "execution_count": 7,
     "metadata": {},
     "output_type": "execute_result"
    }
   ],
   "source": [
    "MODEL_PATH = '../output/sbert-cosine'\n",
    "TRAIN_PATH = '../data/train.csv'\n",
    "TEST_PATH  = '../data/test.csv'\n",
    "GT_PATH    = '../data/ground_truth.csv'\n",
    "SUB_PATH   = '../data/submission.csv'\n",
    "\n",
    "model = SentenceTransformer(MODEL_PATH)\n",
    "df_train = pd.read_csv(TRAIN_PATH)\n",
    "df_test  = pd.read_csv(TEST_PATH)\n",
    "df_gt    = pd.read_csv(GT_PATH)\n",
    "\n",
    "print(f\"🔹 Total de pares de teste: {len(df_test)}\")\n",
    "df_test.head()"
   ]
  },
  {
   "cell_type": "markdown",
   "id": "61ef81c7",
   "metadata": {},
   "source": [
    "## 3. Geração de embeddings e cálculo do cosseno na parte de calibração\n",
    "\n",
    "Aprende uma calibração linear (coeficientes a e b) que ajusta a escala da similaridade do cosseno para o intervalo real das anotações (0–5), usando dados rotulados.\n",
    "Depois aplica essa transformação aos exemplos de teste sem rótulo, sem vazamento de informação."
   ]
  },
  {
   "cell_type": "code",
   "execution_count": 8,
   "id": "4d034fc2",
   "metadata": {},
   "outputs": [
    {
     "name": "stdout",
     "output_type": "stream",
     "text": [
      "Calibração:  score ≈ 0.0200 + 4.7090·cos\n"
     ]
    }
   ],
   "source": [
    "bins = pd.cut(df_train['similarity_score'], bins=[0,1,2,3,4,5], labels=False, include_lowest=True)\n",
    "train_rest, calib = train_test_split(\n",
    "    df_train, test_size=0.2, random_state=42, stratify=bins\n",
    ")\n",
    "\n",
    "emb1_c = model.encode(calib['sentence1'].tolist(), convert_to_tensor=True)\n",
    "emb2_c = model.encode(calib['sentence2'].tolist(), convert_to_tensor=True)\n",
    "cos_c  = util.cos_sim(emb1_c, emb2_c).diagonal().cpu().numpy()  # [-1,1]\n",
    "y_c    = calib['similarity_score'].astype(float).values          # 0–5\n",
    "\n",
    "Xc = np.c_[np.ones_like(cos_c), cos_c]\n",
    "(a, b), *_ = np.linalg.lstsq(Xc, y_c, rcond=None)\n",
    "print(f\"Calibração:  score ≈ {a:.4f} + {b:.4f}·cos\")"
   ]
  },
  {
   "cell_type": "markdown",
   "metadata": {},
   "source": [
    "## 4. Calcular a similaridade entre embeddings\n",
    "\n",
    "Aqui o modelo transforma cada sentença em um vetor numérico **(embedding)** e calcula o quão parecidos esses vetores são usando a **Cosine Similarity**.\n",
    "Depois, a calibração aprendida anteriormente é usada para ajustar o valor do cosseno para a escala original (0–5), gerando a previsão final de similaridade."
   ]
  },
  {
   "cell_type": "code",
   "execution_count": 9,
   "metadata": {},
   "outputs": [],
   "source": [
    "emb1_t = model.encode(df_test['sentence1'].tolist(), convert_to_tensor=True)\n",
    "emb2_t = model.encode(df_test['sentence2'].tolist(), convert_to_tensor=True)\n",
    "cos_t  = util.cos_sim(emb1_t, emb2_t).diagonal().cpu().numpy()\n",
    "\n",
    "pred_test = a + b * cos_t\n",
    "pred_test = np.clip(pred_test, 0.0, 5.0)\n",
    "df_test['predictions'] = pred_test"
   ]
  },
  {
   "cell_type": "markdown",
   "metadata": {},
   "source": [
    "## 5. Salvar previsões"
   ]
  },
  {
   "cell_type": "code",
   "execution_count": 10,
   "metadata": {},
   "outputs": [
    {
     "name": "stdout",
     "output_type": "stream",
     "text": [
      "✅ Previsões salvas em: ../data/submission.csv\n"
     ]
    }
   ],
   "source": [
    "df_test[['id', 'predictions']].to_csv('../data/submission.csv', index=False)\n",
    "print('✅ Previsões salvas em: ../data/submission.csv')"
   ]
  },
  {
   "cell_type": "markdown",
   "metadata": {},
   "source": [
    "## 6. Avaliar com o Ground Truth\n",
    "\n",
    "\"Ground Truth\" é um dataset com as predições corretas, semelhante a um \"gabarito\" do conjunto de teste."
   ]
  },
  {
   "cell_type": "code",
   "execution_count": null,
   "metadata": {},
   "outputs": [
    {
     "name": "stdout",
     "output_type": "stream",
     "text": [
      "> MSE: 0.4996\n",
      "✅ Excelente (erro médio < ~0.7).\n"
     ]
    }
   ],
   "source": [
    "sub = pd.read_csv(SUB_PATH)\n",
    "merged = sub.merge(df_gt, on='id', suffixes=('_pred','_real'))\n",
    "y_pred = merged['predictions_pred'].to_numpy(dtype=float)\n",
    "y_true = merged['predictions_real'].to_numpy(dtype=float)\n",
    "\n",
    "mse = mean_squared_error(y_true, y_pred)\n",
    "print(f\"> MSE: {mse:.4f}\")\n",
    "\n",
    "if mse < 0.5:\n",
    "    print(\"✅ Excelente (erro médio < ~0.5).\")\n",
    "elif mse < 1.5:\n",
    "    print(\"🟡 Bom — dá para melhorar com mais treino/calibração.\")\n",
    "elif mse < 3.0:\n",
    "    print(\"⚠️ Razoável — modelo ainda concentrando no centro.\")\n",
    "else:\n",
    "    print(\"❌ Ruim — verifique dados/escala/calibração.\")"
   ]
  },
  {
   "cell_type": "markdown",
   "metadata": {},
   "source": [
    "## Conclusão\n",
    "\n",
    "- O modelo **Sentence-BERT** foi treinado com **Cosine Similarity Loss**, aprendendo a gerar embeddings que preservam a proximidade semântica entre pares de sentenças.\n",
    "- Após o treinamento, foi aplicada uma **calibração linear sem vazamento**, ajustando a escala das similaridades de cosseno ([-1, 1]) para a escala real das anotações (0 a 5).\n",
    "- Esse tipo de abordagem pode ser aplicado em diversas tarefas práticas, como:\n",
    "    - Detecção de plágio e redundância textual;\n",
    "    - Busca semântica e recuperação de informações;\n",
    "    - Sistemas de recomendação de perguntas, respostas ou documentos;\n",
    "    - Análise de coerência e duplicidade em textos longos."
   ]
  }
 ],
 "metadata": {
  "kernelspec": {
   "display_name": "venv (3.12.3)",
   "language": "python",
   "name": "python3"
  },
  "language_info": {
   "codemirror_mode": {
    "name": "ipython",
    "version": 3
   },
   "file_extension": ".py",
   "mimetype": "text/x-python",
   "name": "python",
   "nbconvert_exporter": "python",
   "pygments_lexer": "ipython3",
   "version": "3.12.3"
  }
 },
 "nbformat": 4,
 "nbformat_minor": 5
}
