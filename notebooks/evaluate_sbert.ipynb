{
 "cells": [
  {
   "cell_type": "markdown",
   "metadata": {},
   "source": [
    "# Avaliando o modelo Sentence-BERT com Cosine Similarity\n",
    "\n",
    "Neste notebook, vamos avaliar o modelo treinado anteriormente, calculando a similaridade entre pares de sentenças do conjunto de teste e comparando com o **ground truth** (dataset \"gabarito\")."
   ]
  },
  {
   "cell_type": "markdown",
   "metadata": {},
   "source": [
    "## 1. Instalação e importação"
   ]
  },
  {
   "cell_type": "code",
   "execution_count": 28,
   "metadata": {},
   "outputs": [],
   "source": [
    "import numpy as np\n",
    "import pandas as pd\n",
    "from sklearn.metrics import accuracy_score, roc_auc_score, f1_score\n",
    "from sentence_transformers import SentenceTransformer, util"
   ]
  },
  {
   "cell_type": "markdown",
   "metadata": {},
   "source": [
    "## 2. Carregar o modelo e os dados"
   ]
  },
  {
   "cell_type": "code",
   "execution_count": 29,
   "metadata": {},
   "outputs": [
    {
     "name": "stdout",
     "output_type": "stream",
     "text": [
      "🔹 Total de pares de teste: 1517\n"
     ]
    },
    {
     "data": {
      "text/html": [
       "<div>\n",
       "<style scoped>\n",
       "    .dataframe tbody tr th:only-of-type {\n",
       "        vertical-align: middle;\n",
       "    }\n",
       "\n",
       "    .dataframe tbody tr th {\n",
       "        vertical-align: top;\n",
       "    }\n",
       "\n",
       "    .dataframe thead th {\n",
       "        text-align: right;\n",
       "    }\n",
       "</style>\n",
       "<table border=\"1\" class=\"dataframe\">\n",
       "  <thead>\n",
       "    <tr style=\"text-align: right;\">\n",
       "      <th></th>\n",
       "      <th>id</th>\n",
       "      <th>question</th>\n",
       "      <th>answer</th>\n",
       "    </tr>\n",
       "  </thead>\n",
       "  <tbody>\n",
       "    <tr>\n",
       "      <th>0</th>\n",
       "      <td>0</td>\n",
       "      <td>What do practitioners of Wicca worship ?</td>\n",
       "      <td>An estimated &lt;num&gt; Americans practice Wicca , ...</td>\n",
       "    </tr>\n",
       "    <tr>\n",
       "      <th>1</th>\n",
       "      <td>1</td>\n",
       "      <td>What do practitioners of Wicca worship ?</td>\n",
       "      <td>The inch- thick chaplain handbook includes a f...</td>\n",
       "    </tr>\n",
       "    <tr>\n",
       "      <th>2</th>\n",
       "      <td>2</td>\n",
       "      <td>What do practitioners of Wicca worship ?</td>\n",
       "      <td>Wicca -- sometimes spelled Wycca -- comes from...</td>\n",
       "    </tr>\n",
       "    <tr>\n",
       "      <th>3</th>\n",
       "      <td>3</td>\n",
       "      <td>What do practitioners of Wicca worship ?</td>\n",
       "      <td>Ms . Siefferly , a senior at the high school ,...</td>\n",
       "    </tr>\n",
       "    <tr>\n",
       "      <th>4</th>\n",
       "      <td>4</td>\n",
       "      <td>What do practitioners of Wicca worship ?</td>\n",
       "      <td>That 's because Ms . Palmer is a witch , the h...</td>\n",
       "    </tr>\n",
       "  </tbody>\n",
       "</table>\n",
       "</div>"
      ],
      "text/plain": [
       "   id                                  question  \\\n",
       "0   0  What do practitioners of Wicca worship ?   \n",
       "1   1  What do practitioners of Wicca worship ?   \n",
       "2   2  What do practitioners of Wicca worship ?   \n",
       "3   3  What do practitioners of Wicca worship ?   \n",
       "4   4  What do practitioners of Wicca worship ?   \n",
       "\n",
       "                                              answer  \n",
       "0  An estimated <num> Americans practice Wicca , ...  \n",
       "1  The inch- thick chaplain handbook includes a f...  \n",
       "2  Wicca -- sometimes spelled Wycca -- comes from...  \n",
       "3  Ms . Siefferly , a senior at the high school ,...  \n",
       "4  That 's because Ms . Palmer is a witch , the h...  "
      ]
     },
     "execution_count": 29,
     "metadata": {},
     "output_type": "execute_result"
    }
   ],
   "source": [
    "MODEL_PATH_COSINE  = '../output/sbert-cosine'\n",
    "MODEL_PATH_TRIPLET = '../output/sbert-triplet'\n",
    "TEST_PATH  = '../data/test.csv'\n",
    "GT_PATH    = '../data/ground_truth.csv'\n",
    "SUB_PATH   = '../data/submission.csv'\n",
    "\n",
    "model = SentenceTransformer(MODEL_PATH_TRIPLET)\n",
    "df_test  = pd.read_csv(TEST_PATH)\n",
    "df_gt    = pd.read_csv(GT_PATH)\n",
    "\n",
    "print(f\"🔹 Total de pares de teste: {len(df_test)}\")\n",
    "df_test.head()"
   ]
  },
  {
   "cell_type": "markdown",
   "metadata": {},
   "source": [
    "## 3. Calcular a similaridade entre embeddings\n",
    "\n",
    "Aqui o modelo transforma cada sentença em um vetor numérico **(embedding)** e calcula o quão parecidos esses vetores são usando a **Cosine Similarity**, gerando a previsão final de similaridade."
   ]
  },
  {
   "cell_type": "code",
   "execution_count": 30,
   "metadata": {},
   "outputs": [],
   "source": [
    "emb_q = model.encode(df_test['question'].tolist(), convert_to_tensor=True)\n",
    "emb_a = model.encode(df_test['answer'].tolist(), convert_to_tensor=True)\n",
    "\n",
    "# Aplica a Cosine similarity\n",
    "cos_sim = util.cos_sim(emb_q, emb_a).diagonal().cpu().numpy()\n",
    "\n",
    "# Normaliza a similaridade do cosseno para o intervalo [0, 1], evitando valores negativos\n",
    "pred_test = (cos_sim + 1) / 2\n",
    "\n",
    "df_test['predictions'] = pred_test"
   ]
  },
  {
   "cell_type": "markdown",
   "metadata": {},
   "source": [
    "## 4. Salvar previsões"
   ]
  },
  {
   "cell_type": "code",
   "execution_count": 31,
   "metadata": {},
   "outputs": [
    {
     "name": "stdout",
     "output_type": "stream",
     "text": [
      "✅ Previsões salvas em: ../data/submission_triplet.csv\n"
     ]
    }
   ],
   "source": [
    "# df_test[['id', 'predictions']].to_csv('../data/submission_cosine.csv', index=False)\n",
    "# print('✅ Previsões salvas em: ../data/submission_cosine.csv')\n",
    "\n",
    "df_test[['id', 'predictions']].to_csv('../data/submission_triplet.csv', index=False)\n",
    "print('✅ Previsões salvas em: ../data/submission_triplet.csv')"
   ]
  },
  {
   "cell_type": "markdown",
   "metadata": {},
   "source": [
    "## 5. Avaliar com o Ground Truth\n",
    "\n",
    "\"Ground Truth\" é um dataset com as predições corretas, semelhante a um \"gabarito\" do conjunto de teste."
   ]
  },
  {
   "cell_type": "code",
   "execution_count": 35,
   "metadata": {},
   "outputs": [
    {
     "name": "stdout",
     "output_type": "stream",
     "text": [
      "✅ Accuracy: 0.779\n",
      "🔹 AUC: 0.814\n",
      "🔹 F1-score: 0.509\n",
      "⚠️ Razoável — o modelo aprende, mas precisa de refinamento.\n"
     ]
    }
   ],
   "source": [
    "y_true = pd.to_numeric(df_gt['predictions'], errors='coerce').astype(float).to_numpy()\n",
    "y_pred = pd.to_numeric(df_test['predictions'], errors='coerce').astype(float).to_numpy()\n",
    "\n",
    "# y_pred_binary = (y_pred > 0.7).astype(int) # Usando threshold de 0.7 para Cosine similarity\n",
    "y_pred_binary = (y_pred > 0.8).astype(int)  # Usando threshold de 0.8 para Triplet Loss\n",
    "y_true_binary = (y_true > 0.5).astype(int)\n",
    "\n",
    "acc = accuracy_score(y_true_binary, y_pred_binary)\n",
    "auc = roc_auc_score(y_true_binary, y_pred)\n",
    "f1  = f1_score(y_true_binary, y_pred_binary)\n",
    "\n",
    "print(f\"✅ Accuracy: {acc:.3f}\")\n",
    "print(f\"🔹 AUC: {auc:.3f}\")\n",
    "print(f\"🔹 F1-score: {f1:.3f}\")\n",
    "\n",
    "if (auc >= 0.90 and f1 >= 0.70) or (acc >= 0.90 and f1 >= 0.65):\n",
    "    print(\"✅ Excelente — modelo bem calibrado e separando muito bem as classes.\")\n",
    "elif (auc >= 0.85 and f1 >= 0.55) or (acc >= 0.85 and f1 >= 0.55):\n",
    "    print(\"🟡 Bom — resultado sólido, com boa separação entre as classes.\")\n",
    "elif (auc >= 0.75 and f1 >= 0.45):\n",
    "    print(\"⚠️ Razoável — o modelo aprende, mas precisa de refinamento.\")\n",
    "else:\n",
    "    print(\"❌ Fraco — reveja os parâmetros de treinamento ou o threshold.\")"
   ]
  },
  {
   "cell_type": "markdown",
   "metadata": {},
   "source": [
    "## Conclusão\n",
    "\n",
    "- O modelo **Sentence-BERT (sBERT)** foi treinado utilizando duas abordagens distintas: **Cosine Similarity Loss** e **Triplet Loss**. Em ambos os casos, o objetivo foi aprender representações vetoriais (embeddings) capazes de capturar a proximidade semântica entre pares de sentenças.\n",
    "- A avaliação foi feita por meio da **similaridade do cosseno**, que mede o grau de alinhamento entre os embeddings das perguntas e respostas.\n",
    "- Embora ambos os modelos tenham apresentado resultados consistentes, os experimentos mostraram que há espaço para ajustes de hiperparâmetros e, especialmente no caso do **Triplet Loss**, a exploração de outras funções de perda pode levar a uma melhor generalização, como `MultipleNegativesRankingLoss` ou `ContrastiveLoss`.\n",
    "- Esse tipo de abordagem pode ser aplicado em diversas tarefas práticas, como:\n",
    "    - Busca semântica e recuperação de informações por similaridade textual;\n",
    "    - Detecção de plágio, redundância ou duplicatas em documentos;\n",
    "    - Sistemas de recomendação de perguntas, respostas ou artigos semelhantes;\n",
    "    - Análise de coerência e consistência textual em resumos, redações ou contratos."
   ]
  }
 ],
 "metadata": {
  "kernelspec": {
   "display_name": "venv (3.12.3)",
   "language": "python",
   "name": "python3"
  },
  "language_info": {
   "codemirror_mode": {
    "name": "ipython",
    "version": 3
   },
   "file_extension": ".py",
   "mimetype": "text/x-python",
   "name": "python",
   "nbconvert_exporter": "python",
   "pygments_lexer": "ipython3",
   "version": "3.12.3"
  }
 },
 "nbformat": 4,
 "nbformat_minor": 5
}
