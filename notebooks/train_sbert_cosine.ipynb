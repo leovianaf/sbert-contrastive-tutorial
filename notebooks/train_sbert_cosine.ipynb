{
 "cells": [
  {
   "cell_type": "markdown",
   "metadata": {},
   "source": [
    "# Treinando Sentence-BERT com Cosine Similarity Loss\n",
    "\n",
    "Neste notebook, vamos treinar um modelo **Sentence-BERT (sBERT)** para medir similaridade entre sentenças usando a **Cosine Similarity Loss**.\n",
    "\n",
    "O objetivo é fazer o modelo aprender a **aproximar embeddings** de sentenças semelhantes e **afastar embeddings** de sentenças diferentes."
   ]
  },
  {
   "cell_type": "markdown",
   "metadata": {},
   "source": [
    "## 1. Instalação e importação das bibliotecas"
   ]
  },
  {
   "cell_type": "code",
   "execution_count": 1,
   "metadata": {},
   "outputs": [],
   "source": [
    "import os\n",
    "import torch\n",
    "import pandas as pd\n",
    "import accelerate, transformers\n",
    "from sentence_transformers import SentenceTransformer, SentencesDataset, InputExample, losses\n",
    "from torch.utils.data import DataLoader, Dataset"
   ]
  },
  {
   "cell_type": "markdown",
   "id": "ebf4abc3",
   "metadata": {},
   "source": [
    "Se você tiver acesso a uma **GPU** local, irá aparecer o nome abaixo:"
   ]
  },
  {
   "cell_type": "code",
   "execution_count": 8,
   "id": "4178c3a5",
   "metadata": {},
   "outputs": [
    {
     "name": "stdout",
     "output_type": "stream",
     "text": [
      "CUDA disponível: True\n",
      "GPU: NVIDIA GeForce GTX 1650\n"
     ]
    }
   ],
   "source": [
    "print(\"CUDA disponível:\", torch.cuda.is_available())\n",
    "print(\"GPU:\", torch.cuda.get_device_name(0) if torch.cuda.is_available() else \"Nenhuma GPU detectada\")"
   ]
  },
  {
   "cell_type": "markdown",
   "metadata": {},
   "source": [
    "## 2. Carregar o dataset de treino\n",
    "\n",
    "O arquivo `data/train.csv` contém pares de sentenças e um valor de similaridade (`similarity_score`) entre 0 e 5."
   ]
  },
  {
   "cell_type": "code",
   "execution_count": 3,
   "metadata": {},
   "outputs": [
    {
     "data": {
      "text/html": [
       "<div>\n",
       "<style scoped>\n",
       "    .dataframe tbody tr th:only-of-type {\n",
       "        vertical-align: middle;\n",
       "    }\n",
       "\n",
       "    .dataframe tbody tr th {\n",
       "        vertical-align: top;\n",
       "    }\n",
       "\n",
       "    .dataframe thead th {\n",
       "        text-align: right;\n",
       "    }\n",
       "</style>\n",
       "<table border=\"1\" class=\"dataframe\">\n",
       "  <thead>\n",
       "    <tr style=\"text-align: right;\">\n",
       "      <th></th>\n",
       "      <th>question</th>\n",
       "      <th>answer</th>\n",
       "      <th>label</th>\n",
       "    </tr>\n",
       "  </thead>\n",
       "  <tbody>\n",
       "    <tr>\n",
       "      <th>0</th>\n",
       "      <td>Who is the author of the book , `` The Iron La...</td>\n",
       "      <td>the IRON LADY ; A Biography of Margaret Thatch...</td>\n",
       "      <td>1</td>\n",
       "    </tr>\n",
       "    <tr>\n",
       "      <th>1</th>\n",
       "      <td>Who is the author of the book , `` The Iron La...</td>\n",
       "      <td>in this same revisionist mold , Hugo Young , t...</td>\n",
       "      <td>1</td>\n",
       "    </tr>\n",
       "    <tr>\n",
       "      <th>2</th>\n",
       "      <td>Who is the author of the book , `` The Iron La...</td>\n",
       "      <td>in `` The Iron Lady , '' Young traces the wind...</td>\n",
       "      <td>1</td>\n",
       "    </tr>\n",
       "    <tr>\n",
       "      <th>3</th>\n",
       "      <td>Who is the author of the book , `` The Iron La...</td>\n",
       "      <td>`` He is the very essence of the classless mer...</td>\n",
       "      <td>1</td>\n",
       "    </tr>\n",
       "    <tr>\n",
       "      <th>4</th>\n",
       "      <td>Who is the author of the book , `` The Iron La...</td>\n",
       "      <td>From her father , Young argues , she inherited...</td>\n",
       "      <td>0</td>\n",
       "    </tr>\n",
       "  </tbody>\n",
       "</table>\n",
       "</div>"
      ],
      "text/plain": [
       "                                            question  \\\n",
       "0  Who is the author of the book , `` The Iron La...   \n",
       "1  Who is the author of the book , `` The Iron La...   \n",
       "2  Who is the author of the book , `` The Iron La...   \n",
       "3  Who is the author of the book , `` The Iron La...   \n",
       "4  Who is the author of the book , `` The Iron La...   \n",
       "\n",
       "                                              answer  label  \n",
       "0  the IRON LADY ; A Biography of Margaret Thatch...      1  \n",
       "1  in this same revisionist mold , Hugo Young , t...      1  \n",
       "2  in `` The Iron Lady , '' Young traces the wind...      1  \n",
       "3  `` He is the very essence of the classless mer...      1  \n",
       "4  From her father , Young argues , she inherited...      0  "
      ]
     },
     "execution_count": 3,
     "metadata": {},
     "output_type": "execute_result"
    }
   ],
   "source": [
    "df = pd.read_csv(\"../data/train.csv\")\n",
    "df.head()"
   ]
  },
  {
   "cell_type": "markdown",
   "metadata": {},
   "source": [
    "## 3. Preparar os exemplos para treino\n",
    "\n",
    "O Sentence-BERT espera exemplos no formato `InputExample`, contendo dois textos e uma label (score de similaridade)."
   ]
  },
  {
   "cell_type": "code",
   "execution_count": 4,
   "metadata": {},
   "outputs": [
    {
     "name": "stdout",
     "output_type": "stream",
     "text": [
      "✅ Total de exemplos de treino: 4718\n"
     ]
    }
   ],
   "source": [
    "train_examples = [\n",
    "    InputExample(\n",
    "        texts=[row['question'], row['answer']],\n",
    "        label=float(row['label'])\n",
    "    )\n",
    "    for _, row in df.iterrows()\n",
    "]\n",
    "\n",
    "train_dataloader = DataLoader(train_examples, shuffle=True, batch_size=16)  # type: ignore\n",
    "print(f\"✅ Total de exemplos de treino: {len(train_examples)}\")"
   ]
  },
  {
   "cell_type": "markdown",
   "id": "ab87fdfd",
   "metadata": {},
   "source": [
    "## 4. Carregar o modelo sBERT\n",
    "\n",
    "Usaremos o modelo `all-MiniLM-L12-v2`, que é bem eficiente para tarefas de similaridade semântica.\n",
    "Obs.: Também pode testar com o modelo `all-MiniLM-L6-v2`\n",
    "\n",
    "Também ativa o treinamento pela GPU, se estiver disponível."
   ]
  },
  {
   "cell_type": "code",
   "execution_count": 5,
   "id": "b9b87748",
   "metadata": {},
   "outputs": [],
   "source": [
    "device = 'cuda' if torch.cuda.is_available() else 'cpu'\n",
    "model = SentenceTransformer('all-MiniLM-L12-v2', device=device)"
   ]
  },
  {
   "cell_type": "markdown",
   "metadata": {},
   "source": [
    "## 5. Definir a função de perda CosineSimilarityLoss\n",
    "\n",
    "A função `CosineSimilarityLoss` faz o modelo maximizar a similaridade do cosseno entre embeddings de sentenças semelhantes e minimizar a de sentenças diferentes."
   ]
  },
  {
   "cell_type": "code",
   "execution_count": 6,
   "metadata": {},
   "outputs": [],
   "source": [
    "train_loss = losses.CosineSimilarityLoss(model=model)"
   ]
  },
  {
   "cell_type": "markdown",
   "metadata": {},
   "source": [
    "## 6. Treinar o modelo"
   ]
  },
  {
   "cell_type": "code",
   "execution_count": 7,
   "metadata": {},
   "outputs": [
    {
     "data": {
      "application/vnd.jupyter.widget-view+json": {
       "model_id": "90169b055208421bb74c673b33b6296d",
       "version_major": 2,
       "version_minor": 0
      },
      "text/plain": [
       "Computing widget examples:   0%|          | 0/1 [00:00<?, ?example/s]"
      ]
     },
     "metadata": {},
     "output_type": "display_data"
    },
    {
     "data": {
      "text/html": [
       "\n",
       "    <div>\n",
       "      \n",
       "      <progress value='1475' max='1475' style='width:300px; height:20px; vertical-align: middle;'></progress>\n",
       "      [1475/1475 04:18, Epoch 5/5]\n",
       "    </div>\n",
       "    <table border=\"1\" class=\"dataframe\">\n",
       "  <thead>\n",
       " <tr style=\"text-align: left;\">\n",
       "      <th>Step</th>\n",
       "      <th>Training Loss</th>\n",
       "    </tr>\n",
       "  </thead>\n",
       "  <tbody>\n",
       "    <tr>\n",
       "      <td>500</td>\n",
       "      <td>0.048300</td>\n",
       "    </tr>\n",
       "    <tr>\n",
       "      <td>1000</td>\n",
       "      <td>0.022700</td>\n",
       "    </tr>\n",
       "  </tbody>\n",
       "</table><p>"
      ],
      "text/plain": [
       "<IPython.core.display.HTML object>"
      ]
     },
     "metadata": {},
     "output_type": "display_data"
    },
    {
     "name": "stdout",
     "output_type": "stream",
     "text": [
      "✅ Treinamento concluído! Modelo salvo em: ../output/sbert-cosine\n"
     ]
    }
   ],
   "source": [
    "output_dir = '../output/sbert-cosine'\n",
    "os.makedirs(output_dir, exist_ok=True)\n",
    "\n",
    "model.fit(\n",
    "    train_objectives=[(train_dataloader, train_loss)],\n",
    "    epochs=5,               # número de épocas no treinamento\n",
    "    warmup_steps=100,       # número de passos para aquecimento, evita overfitting\n",
    "    output_path=output_dir, # diretório para salvar o modelo\n",
    "    show_progress_bar=True, # mostra barra de progresso\n",
    ")\n",
    "\n",
    "print(f\"✅ Treinamento concluído! Modelo salvo em: {output_dir}\")"
   ]
  },
  {
   "cell_type": "markdown",
   "metadata": {},
   "source": [
    "## Conclusão\n",
    "\n",
    "O modelo foi treinado com **Cosine Similarity Loss**, que aprende a prever o grau contínuo de similaridade entre pares de sentenças.\n",
    "\n",
    "No próximo notebook, vamos **avaliar** esse modelo no conjunto de teste (`test.csv`) e comparar com o `ground_truth.csv`.\""
   ]
  }
 ],
 "metadata": {
  "kernelspec": {
   "display_name": "venv (3.12.3)",
   "language": "python",
   "name": "python3"
  },
  "language_info": {
   "codemirror_mode": {
    "name": "ipython",
    "version": 3
   },
   "file_extension": ".py",
   "mimetype": "text/x-python",
   "name": "python",
   "nbconvert_exporter": "python",
   "pygments_lexer": "ipython3",
   "version": "3.12.3"
  }
 },
 "nbformat": 4,
 "nbformat_minor": 5
}
