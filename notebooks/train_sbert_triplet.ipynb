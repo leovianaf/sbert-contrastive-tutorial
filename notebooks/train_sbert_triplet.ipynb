{
 "cells": [
  {
   "cell_type": "markdown",
   "metadata": {},
   "source": [
    "# Treinando Sentence-BERT com Triplet Loss\n",
    "\n",
    "Neste notebook, vamos treinar um modelo **Sentence-BERT (sBERT)** para medir similaridade entre sentenças usando a **Triplet Loss**.\n",
    "\n",
    "A Triplet Loss treina o modelo comparando três frases por vez:\n",
    "- Anchor (A) — frase base\n",
    "- Positive (P) — frase parecida com A\n",
    "- Negative (N) — frase diferente de A\n",
    "\n",
    "A ideia é que a **distância(A, P) < distância(A, N)**\n",
    "\n",
    "Ou seja: o modelo aprende a **aproximar os embeddings** de A e P, e **afastar os embeddings** de A e N."
   ]
  },
  {
   "cell_type": "markdown",
   "metadata": {},
   "source": [
    "## 1. Instalação e importação das bibliotecas"
   ]
  },
  {
   "cell_type": "code",
   "execution_count": 1,
   "metadata": {},
   "outputs": [],
   "source": [
    "import os\n",
    "import torch\n",
    "import pandas as pd\n",
    "from sentence_transformers import SentenceTransformer, InputExample, losses\n",
    "from torch.utils.data import DataLoader"
   ]
  },
  {
   "cell_type": "markdown",
   "id": "ebf4abc3",
   "metadata": {},
   "source": [
    "Se você tiver acesso a uma **GPU** local, irá aparecer o nome abaixo:"
   ]
  },
  {
   "cell_type": "code",
   "execution_count": 2,
   "id": "4178c3a5",
   "metadata": {},
   "outputs": [
    {
     "name": "stdout",
     "output_type": "stream",
     "text": [
      "CUDA disponível: True\n",
      "GPU: NVIDIA GeForce GTX 1650\n"
     ]
    }
   ],
   "source": [
    "print(\"CUDA disponível:\", torch.cuda.is_available())\n",
    "print(\"GPU:\", torch.cuda.get_device_name(0) if torch.cuda.is_available() else \"Nenhuma GPU detectada\")"
   ]
  },
  {
   "cell_type": "markdown",
   "metadata": {},
   "source": [
    "## 2. Carregar o dataset de treino\n",
    "\n",
    "O arquivo `data/train.csv` contém pares de sentenças e um valor de similaridade (`similarity_score`) entre 0 e 5."
   ]
  },
  {
   "cell_type": "code",
   "execution_count": 3,
   "metadata": {},
   "outputs": [
    {
     "data": {
      "text/html": [
       "<div>\n",
       "<style scoped>\n",
       "    .dataframe tbody tr th:only-of-type {\n",
       "        vertical-align: middle;\n",
       "    }\n",
       "\n",
       "    .dataframe tbody tr th {\n",
       "        vertical-align: top;\n",
       "    }\n",
       "\n",
       "    .dataframe thead th {\n",
       "        text-align: right;\n",
       "    }\n",
       "</style>\n",
       "<table border=\"1\" class=\"dataframe\">\n",
       "  <thead>\n",
       "    <tr style=\"text-align: right;\">\n",
       "      <th></th>\n",
       "      <th>anchor</th>\n",
       "      <th>positive</th>\n",
       "      <th>negative</th>\n",
       "    </tr>\n",
       "  </thead>\n",
       "  <tbody>\n",
       "    <tr>\n",
       "      <th>0</th>\n",
       "      <td>Who is the author of the book , `` The Iron La...</td>\n",
       "      <td>the IRON LADY ; A Biography of Margaret Thatch...</td>\n",
       "      <td>One of Qintex 's most visible assets remains t...</td>\n",
       "    </tr>\n",
       "    <tr>\n",
       "      <th>1</th>\n",
       "      <td>Who is the author of the book , `` The Iron La...</td>\n",
       "      <td>the IRON LADY ; A Biography of Margaret Thatch...</td>\n",
       "      <td>Thus when it sent the message that the Norther...</td>\n",
       "    </tr>\n",
       "    <tr>\n",
       "      <th>2</th>\n",
       "      <td>Who is the author of the book , `` The Iron La...</td>\n",
       "      <td>the IRON LADY ; A Biography of Margaret Thatch...</td>\n",
       "      <td>Agricultural output and the number of related ...</td>\n",
       "    </tr>\n",
       "    <tr>\n",
       "      <th>3</th>\n",
       "      <td>Who is the author of the book , `` The Iron La...</td>\n",
       "      <td>the IRON LADY ; A Biography of Margaret Thatch...</td>\n",
       "      <td>It was not until the submarine 's trim equaliz...</td>\n",
       "    </tr>\n",
       "    <tr>\n",
       "      <th>4</th>\n",
       "      <td>Who is the author of the book , `` The Iron La...</td>\n",
       "      <td>the IRON LADY ; A Biography of Margaret Thatch...</td>\n",
       "      <td>The pilot , Chief Warrant Officer Bobby Hall ,...</td>\n",
       "    </tr>\n",
       "  </tbody>\n",
       "</table>\n",
       "</div>"
      ],
      "text/plain": [
       "                                              anchor  \\\n",
       "0  Who is the author of the book , `` The Iron La...   \n",
       "1  Who is the author of the book , `` The Iron La...   \n",
       "2  Who is the author of the book , `` The Iron La...   \n",
       "3  Who is the author of the book , `` The Iron La...   \n",
       "4  Who is the author of the book , `` The Iron La...   \n",
       "\n",
       "                                            positive  \\\n",
       "0  the IRON LADY ; A Biography of Margaret Thatch...   \n",
       "1  the IRON LADY ; A Biography of Margaret Thatch...   \n",
       "2  the IRON LADY ; A Biography of Margaret Thatch...   \n",
       "3  the IRON LADY ; A Biography of Margaret Thatch...   \n",
       "4  the IRON LADY ; A Biography of Margaret Thatch...   \n",
       "\n",
       "                                            negative  \n",
       "0  One of Qintex 's most visible assets remains t...  \n",
       "1  Thus when it sent the message that the Norther...  \n",
       "2  Agricultural output and the number of related ...  \n",
       "3  It was not until the submarine 's trim equaliz...  \n",
       "4  The pilot , Chief Warrant Officer Bobby Hall ,...  "
      ]
     },
     "execution_count": 3,
     "metadata": {},
     "output_type": "execute_result"
    }
   ],
   "source": [
    "df = pd.read_csv(\"../data/train_triplet.csv\")\n",
    "df.head()"
   ]
  },
  {
   "cell_type": "markdown",
   "metadata": {},
   "source": [
    "## 3. Preparar os exemplos para treino\n",
    "\n",
    "O Sentence-BERT espera exemplos no formato `InputExample`, contendo dois textos e uma label (score de similaridade)."
   ]
  },
  {
   "cell_type": "code",
   "execution_count": 4,
   "metadata": {},
   "outputs": [
    {
     "name": "stdout",
     "output_type": "stream",
     "text": [
      "✅ Total de triplas de treino: 1740\n"
     ]
    }
   ],
   "source": [
    "train_examples = [\n",
    "    InputExample(\n",
    "        texts=[row['anchor'], row['positive'], row['negative']]\n",
    "    )\n",
    "    for _, row in df.iterrows()\n",
    "]\n",
    "\n",
    "train_dataloader = DataLoader(train_examples, shuffle=True, batch_size=16)  # type: ignore\n",
    "print(f\"✅ Total de triplas de treino: {len(train_examples)}\")"
   ]
  },
  {
   "cell_type": "markdown",
   "id": "ab87fdfd",
   "metadata": {},
   "source": [
    "## 4. Carregar o modelo sBERT\n",
    "\n",
    "Usaremos o modelo `multi-qa-MiniLM-L6-cos-v1` é uma versão multilíngue e otimizada do Sentence-BERT,\n",
    "treinada em múltiplas tarefas de Pergunta–Resposta (*Question Answering*) e busca semântica (*semantic search*).\n",
    "\n",
    "Ele é capaz de gerar embeddings comparáveis entre frases em diferentes idiomas, incluindo o português.\n",
    "\n",
    "Também ativa o treinamento pela GPU, se estiver disponível."
   ]
  },
  {
   "cell_type": "code",
   "execution_count": 13,
   "id": "b9b87748",
   "metadata": {},
   "outputs": [
    {
     "data": {
      "application/vnd.jupyter.widget-view+json": {
       "model_id": "2b0acfdf03e8489a9cbc84f7128ca1d4",
       "version_major": 2,
       "version_minor": 0
      },
      "text/plain": [
       "modules.json:   0%|          | 0.00/349 [00:00<?, ?B/s]"
      ]
     },
     "metadata": {},
     "output_type": "display_data"
    },
    {
     "data": {
      "application/vnd.jupyter.widget-view+json": {
       "model_id": "af5c4da1eb264b4cb3985ad75115da30",
       "version_major": 2,
       "version_minor": 0
      },
      "text/plain": [
       "config_sentence_transformers.json:   0%|          | 0.00/116 [00:00<?, ?B/s]"
      ]
     },
     "metadata": {},
     "output_type": "display_data"
    },
    {
     "data": {
      "application/vnd.jupyter.widget-view+json": {
       "model_id": "a14d9d35333846bd979366c5c69ccf01",
       "version_major": 2,
       "version_minor": 0
      },
      "text/plain": [
       "README.md: 0.00B [00:00, ?B/s]"
      ]
     },
     "metadata": {},
     "output_type": "display_data"
    },
    {
     "data": {
      "application/vnd.jupyter.widget-view+json": {
       "model_id": "63156d7ef58b429c9c24daf88b4d03cb",
       "version_major": 2,
       "version_minor": 0
      },
      "text/plain": [
       "sentence_bert_config.json:   0%|          | 0.00/53.0 [00:00<?, ?B/s]"
      ]
     },
     "metadata": {},
     "output_type": "display_data"
    },
    {
     "data": {
      "application/vnd.jupyter.widget-view+json": {
       "model_id": "d2a7dea099344a3086347a3979f13d9f",
       "version_major": 2,
       "version_minor": 0
      },
      "text/plain": [
       "config.json:   0%|          | 0.00/612 [00:00<?, ?B/s]"
      ]
     },
     "metadata": {},
     "output_type": "display_data"
    },
    {
     "data": {
      "application/vnd.jupyter.widget-view+json": {
       "model_id": "6582f99769d443ddac9e4b70ff9b015a",
       "version_major": 2,
       "version_minor": 0
      },
      "text/plain": [
       "model.safetensors:   0%|          | 0.00/90.9M [00:00<?, ?B/s]"
      ]
     },
     "metadata": {},
     "output_type": "display_data"
    },
    {
     "data": {
      "application/vnd.jupyter.widget-view+json": {
       "model_id": "8bd5b5dfff37495f92bc0cafdd4ae622",
       "version_major": 2,
       "version_minor": 0
      },
      "text/plain": [
       "tokenizer_config.json:   0%|          | 0.00/383 [00:00<?, ?B/s]"
      ]
     },
     "metadata": {},
     "output_type": "display_data"
    },
    {
     "data": {
      "application/vnd.jupyter.widget-view+json": {
       "model_id": "83d9d7d36ee34d9786c4b666533e8ab9",
       "version_major": 2,
       "version_minor": 0
      },
      "text/plain": [
       "vocab.txt: 0.00B [00:00, ?B/s]"
      ]
     },
     "metadata": {},
     "output_type": "display_data"
    },
    {
     "data": {
      "application/vnd.jupyter.widget-view+json": {
       "model_id": "2a94f5f691b943cfaa77e8eb985ecef7",
       "version_major": 2,
       "version_minor": 0
      },
      "text/plain": [
       "tokenizer.json: 0.00B [00:00, ?B/s]"
      ]
     },
     "metadata": {},
     "output_type": "display_data"
    },
    {
     "data": {
      "application/vnd.jupyter.widget-view+json": {
       "model_id": "13e7089f07c34a13aa9db96eb6b13d60",
       "version_major": 2,
       "version_minor": 0
      },
      "text/plain": [
       "special_tokens_map.json:   0%|          | 0.00/112 [00:00<?, ?B/s]"
      ]
     },
     "metadata": {},
     "output_type": "display_data"
    },
    {
     "data": {
      "application/vnd.jupyter.widget-view+json": {
       "model_id": "b9376f660e474a43a099b2fb6c400e18",
       "version_major": 2,
       "version_minor": 0
      },
      "text/plain": [
       "config.json:   0%|          | 0.00/190 [00:00<?, ?B/s]"
      ]
     },
     "metadata": {},
     "output_type": "display_data"
    }
   ],
   "source": [
    "device = 'cuda' if torch.cuda.is_available() else 'cpu'\n",
    "model = SentenceTransformer('multi-qa-MiniLM-L6-cos-v1', device=device)"
   ]
  },
  {
   "cell_type": "markdown",
   "metadata": {},
   "source": [
    "## 5. Definir a função de perda Triplet Loss\n",
    "\n",
    "A função `Triplet Loss` tenta **diminuir a distância** entre o par positivo e **aumentar** entre o par negativo."
   ]
  },
  {
   "cell_type": "code",
   "execution_count": 14,
   "metadata": {},
   "outputs": [],
   "source": [
    "train_loss = losses.TripletLoss(\n",
    "    model=model,\n",
    "    distance_metric=losses.TripletDistanceMetric.COSINE,  # usa distância de cosseno\n",
    "    triplet_margin=0.3  # margem mínima entre positivo e negativo\n",
    ")"
   ]
  },
  {
   "cell_type": "markdown",
   "metadata": {},
   "source": [
    "## 6. Treinar o modelo"
   ]
  },
  {
   "cell_type": "code",
   "execution_count": 16,
   "metadata": {},
   "outputs": [
    {
     "data": {
      "text/html": [
       "\n",
       "    <div>\n",
       "      \n",
       "      <progress value='872' max='872' style='width:300px; height:20px; vertical-align: middle;'></progress>\n",
       "      [872/872 02:11, Epoch 8/8]\n",
       "    </div>\n",
       "    <table border=\"1\" class=\"dataframe\">\n",
       "  <thead>\n",
       " <tr style=\"text-align: left;\">\n",
       "      <th>Step</th>\n",
       "      <th>Training Loss</th>\n",
       "    </tr>\n",
       "  </thead>\n",
       "  <tbody>\n",
       "    <tr>\n",
       "      <td>500</td>\n",
       "      <td>0.000100</td>\n",
       "    </tr>\n",
       "  </tbody>\n",
       "</table><p>"
      ],
      "text/plain": [
       "<IPython.core.display.HTML object>"
      ]
     },
     "metadata": {},
     "output_type": "display_data"
    },
    {
     "name": "stdout",
     "output_type": "stream",
     "text": [
      "✅ Treinamento concluído! Modelo salvo em: ../output/sbert-triplet\n"
     ]
    }
   ],
   "source": [
    "output_dir = '../output/sbert-triplet'\n",
    "os.makedirs(output_dir, exist_ok=True)\n",
    "\n",
    "model.fit(\n",
    "    train_objectives=[(train_dataloader, train_loss)],\n",
    "    epochs=8,               # número de épocas no treinamento\n",
    "    warmup_steps=100,       # número de passos para aquecimento, evita overfitting\n",
    "    output_path=output_dir, # diretório para salvar o modelo\n",
    "    show_progress_bar=True, # mostra barra de progresso\n",
    ")\n",
    "\n",
    "print(f\"✅ Treinamento concluído! Modelo salvo em: {output_dir}\")"
   ]
  },
  {
   "cell_type": "markdown",
   "metadata": {},
   "source": [
    "## Conclusão\n",
    "\n",
    "O modelo foi treinado com **Triplet Loss**, que ensina a distinguir exemplos semelhantes e diferentes a partir de uma âncora (`anchor`).\n",
    "\n",
    "Essa abordagem é muito usada em **busca semântica**, **detecção de duplicatas** e **recomendação de respostas**."
   ]
  }
 ],
 "metadata": {
  "kernelspec": {
   "display_name": "venv (3.12.3)",
   "language": "python",
   "name": "python3"
  },
  "language_info": {
   "codemirror_mode": {
    "name": "ipython",
    "version": 3
   },
   "file_extension": ".py",
   "mimetype": "text/x-python",
   "name": "python",
   "nbconvert_exporter": "python",
   "pygments_lexer": "ipython3",
   "version": "3.12.3"
  }
 },
 "nbformat": 4,
 "nbformat_minor": 5
}
