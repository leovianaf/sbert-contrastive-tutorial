{
 "cells": [
  {
   "cell_type": "markdown",
   "id": "186f12e6",
   "metadata": {},
   "source": [
    "# 🧩 Gerar Datasets do Tutorial SBERT + ContrastiveLoss\n",
    "\n",
    "Este notebook gera os datasets padronizados para o tutorial:\n",
    "\n",
    "- `train.csv` → usado para treino do modelo\n",
    "- `test.csv` → usado pelos alunos (sem labels)\n",
    "- `ground_truth.csv` → contém o id e as respostas corretas (predictions verdadeiros)\n",
    "- `sample_submission.csv` → modelo de submissão (id + predictions)\n",
    "\n",
    "Formato padronizado:\n",
    "```\n",
    "train.csv          → sentence1, sentence2, similarity_score\n",
    "test.csv           → id, sentence1, sentence2\n",
    "ground_truth.csv   → id, predictions\n",
    "sample_submission.csv → id, predictions\n",
    "```"
   ]
  },
  {
   "cell_type": "markdown",
   "id": "3d12804e",
   "metadata": {},
   "source": [
    "## ⚙️ 1. Importações e setup"
   ]
  },
  {
   "cell_type": "code",
   "execution_count": 1,
   "id": "487cee06",
   "metadata": {},
   "outputs": [],
   "source": [
    "import pandas as pd\n",
    "from sklearn.model_selection import train_test_split\n",
    "import os"
   ]
  },
  {
   "cell_type": "markdown",
   "id": "c43edd55",
   "metadata": {},
   "source": [
    "## 📂 2. Carregar o dataset original\n",
    "\n",
    "O arquivo `train_original.csv` deve conter as colunas:\n",
    "- `sentence1`\n",
    "- `sentence2`\n",
    "- `similarity_score`"
   ]
  },
  {
   "cell_type": "code",
   "execution_count": 2,
   "id": "f1ede2f3",
   "metadata": {},
   "outputs": [
    {
     "name": "stdout",
     "output_type": "stream",
     "text": [
      "✅ Dataset original carregado com 6040 amostras.\n"
     ]
    },
    {
     "data": {
      "text/html": [
       "<div>\n",
       "<style scoped>\n",
       "    .dataframe tbody tr th:only-of-type {\n",
       "        vertical-align: middle;\n",
       "    }\n",
       "\n",
       "    .dataframe tbody tr th {\n",
       "        vertical-align: top;\n",
       "    }\n",
       "\n",
       "    .dataframe thead th {\n",
       "        text-align: right;\n",
       "    }\n",
       "</style>\n",
       "<table border=\"1\" class=\"dataframe\">\n",
       "  <thead>\n",
       "    <tr style=\"text-align: right;\">\n",
       "      <th></th>\n",
       "      <th>sentence1</th>\n",
       "      <th>sentence2</th>\n",
       "      <th>similarity_score</th>\n",
       "    </tr>\n",
       "  </thead>\n",
       "  <tbody>\n",
       "    <tr>\n",
       "      <th>0</th>\n",
       "      <td>The cat is attacking a corn husk broom.</td>\n",
       "      <td>Grey and white cat sitting in bathroom sink.</td>\n",
       "      <td>0.8</td>\n",
       "    </tr>\n",
       "    <tr>\n",
       "      <th>1</th>\n",
       "      <td>It depends on what you want to do next, and wh...</td>\n",
       "      <td>It's up to you what you want to do next.</td>\n",
       "      <td>4.0</td>\n",
       "    </tr>\n",
       "    <tr>\n",
       "      <th>2</th>\n",
       "      <td>A spokeswoman at Strong Memorial Hospital said...</td>\n",
       "      <td>A spokesman at Strong Memorial Hospital said D...</td>\n",
       "      <td>3.0</td>\n",
       "    </tr>\n",
       "    <tr>\n",
       "      <th>3</th>\n",
       "      <td>Nepal earthquake death toll surpasses 7,000</td>\n",
       "      <td>Death toll in Nepal earthquake tops 8,000</td>\n",
       "      <td>3.0</td>\n",
       "    </tr>\n",
       "    <tr>\n",
       "      <th>4</th>\n",
       "      <td>The man is pushing the van.</td>\n",
       "      <td>The woman is singing.</td>\n",
       "      <td>0.0</td>\n",
       "    </tr>\n",
       "  </tbody>\n",
       "</table>\n",
       "</div>"
      ],
      "text/plain": [
       "                                           sentence1  \\\n",
       "0            The cat is attacking a corn husk broom.   \n",
       "1  It depends on what you want to do next, and wh...   \n",
       "2  A spokeswoman at Strong Memorial Hospital said...   \n",
       "3        Nepal earthquake death toll surpasses 7,000   \n",
       "4                        The man is pushing the van.   \n",
       "\n",
       "                                           sentence2  similarity_score  \n",
       "0       Grey and white cat sitting in bathroom sink.               0.8  \n",
       "1           It's up to you what you want to do next.               4.0  \n",
       "2  A spokesman at Strong Memorial Hospital said D...               3.0  \n",
       "3          Death toll in Nepal earthquake tops 8,000               3.0  \n",
       "4                              The woman is singing.               0.0  "
      ]
     },
     "execution_count": 2,
     "metadata": {},
     "output_type": "execute_result"
    }
   ],
   "source": [
    "DATA_DIR = 'data'\n",
    "os.makedirs(DATA_DIR, exist_ok=True)\n",
    "\n",
    "original_path = os.path.join(DATA_DIR, 'train_original.csv')\n",
    "df = pd.read_csv(original_path)\n",
    "print(f\"✅ Dataset original carregado com {len(df)} amostras.\")\n",
    "df.head()"
   ]
  },
  {
   "cell_type": "markdown",
   "id": "f600d288",
   "metadata": {},
   "source": [
    "## ✂️ 3. Embaralhar e dividir em treino e teste"
   ]
  },
  {
   "cell_type": "code",
   "execution_count": 3,
   "id": "d3ccde33",
   "metadata": {},
   "outputs": [
    {
     "name": "stdout",
     "output_type": "stream",
     "text": [
      "Treino: 4832 | Teste: 1208\n"
     ]
    }
   ],
   "source": [
    "df = df.sample(frac=1, random_state=42).reset_index(drop=True)\n",
    "df_train, df_test = train_test_split(df, test_size=0.2, random_state=42)\n",
    "print(f\"Treino: {len(df_train)} | Teste: {len(df_test)}\")"
   ]
  },
  {
   "cell_type": "markdown",
   "id": "7ef822c2",
   "metadata": {},
   "source": [
    "## 🧮 4. Adicionar IDs e criar arquivos padronizados"
   ]
  },
  {
   "cell_type": "code",
   "execution_count": 4,
   "id": "54e72812",
   "metadata": {},
   "outputs": [],
   "source": [
    "# Adiciona um ID único para cada amostra de teste\n",
    "df_test = df_test.reset_index(drop=True)\n",
    "df_test['id'] = df_test.index\n",
    "\n",
    "# GROUND TRUTH (id + predictions verdadeiros)\n",
    "df_ground_truth = df_test[['id', 'similarity_score']].rename(columns={'similarity_score': 'predictions'})\n",
    "\n",
    "# TEST (sem labels)\n",
    "df_test_public = df_test[['id', 'sentence1', 'sentence2']]\n",
    "\n",
    "# SAMPLE SUBMISSION (estrutura padrão para aluno)\n",
    "sample_submission = pd.DataFrame({\n",
    "    'id': df_test['id'],\n",
    "    'predictions': [0.0] * len(df_test)\n",
    "})"
   ]
  },
  {
   "cell_type": "markdown",
   "id": "ac84e428",
   "metadata": {},
   "source": [
    "## 💾 5. Salvar os arquivos finais"
   ]
  },
  {
   "cell_type": "code",
   "execution_count": 5,
   "id": "38750c00",
   "metadata": {},
   "outputs": [
    {
     "name": "stdout",
     "output_type": "stream",
     "text": [
      "✅ Arquivos criados com sucesso:\n",
      "- data/train.csv\n",
      "- data/test.csv\n",
      "- data/ground_truth.csv\n",
      "- data/sample_submission.csv\n"
     ]
    }
   ],
   "source": [
    "train_path = os.path.join(DATA_DIR, 'train.csv')\n",
    "test_path = os.path.join(DATA_DIR, 'test.csv')\n",
    "truth_path = os.path.join(DATA_DIR, 'ground_truth.csv')\n",
    "sample_path = os.path.join(DATA_DIR, 'sample_submission.csv')\n",
    "\n",
    "# Salvar cada um\n",
    "df_train.to_csv(train_path, index=False)\n",
    "df_test_public.to_csv(test_path, index=False)\n",
    "df_ground_truth.to_csv(truth_path, index=False)\n",
    "sample_submission.to_csv(sample_path, index=False)\n",
    "\n",
    "print('✅ Arquivos criados com sucesso:')\n",
    "print('-', train_path)\n",
    "print('-', test_path)\n",
    "print('-', truth_path)\n",
    "print('-', sample_path)"
   ]
  },
  {
   "cell_type": "markdown",
   "id": "c3af443c",
   "metadata": {},
   "source": [
    "## 🔍 6. Verificar amostras"
   ]
  },
  {
   "cell_type": "code",
   "execution_count": 6,
   "id": "7585c5d0",
   "metadata": {},
   "outputs": [
    {
     "name": "stdout",
     "output_type": "stream",
     "text": [
      "Treino:\n"
     ]
    },
    {
     "data": {
      "text/html": [
       "<div>\n",
       "<style scoped>\n",
       "    .dataframe tbody tr th:only-of-type {\n",
       "        vertical-align: middle;\n",
       "    }\n",
       "\n",
       "    .dataframe tbody tr th {\n",
       "        vertical-align: top;\n",
       "    }\n",
       "\n",
       "    .dataframe thead th {\n",
       "        text-align: right;\n",
       "    }\n",
       "</style>\n",
       "<table border=\"1\" class=\"dataframe\">\n",
       "  <thead>\n",
       "    <tr style=\"text-align: right;\">\n",
       "      <th></th>\n",
       "      <th>sentence1</th>\n",
       "      <th>sentence2</th>\n",
       "      <th>similarity_score</th>\n",
       "    </tr>\n",
       "  </thead>\n",
       "  <tbody>\n",
       "    <tr>\n",
       "      <th>1121</th>\n",
       "      <td>A woman puts make-up on.</td>\n",
       "      <td>A woman is putting on eyeshadow.</td>\n",
       "      <td>3.333</td>\n",
       "    </tr>\n",
       "    <tr>\n",
       "      <th>4431</th>\n",
       "      <td>Scientists prove there is water on Mars</td>\n",
       "      <td>Has Nasa discovered water on Mars?</td>\n",
       "      <td>2.000</td>\n",
       "    </tr>\n",
       "    <tr>\n",
       "      <th>4060</th>\n",
       "      <td>Ban Ki-moon to Review Syria Chemical Arms Accord</td>\n",
       "      <td>Ban to review Syria chemical arms accord</td>\n",
       "      <td>3.600</td>\n",
       "    </tr>\n",
       "  </tbody>\n",
       "</table>\n",
       "</div>"
      ],
      "text/plain": [
       "                                             sentence1  \\\n",
       "1121                          A woman puts make-up on.   \n",
       "4431           Scientists prove there is water on Mars   \n",
       "4060  Ban Ki-moon to Review Syria Chemical Arms Accord   \n",
       "\n",
       "                                     sentence2  similarity_score  \n",
       "1121          A woman is putting on eyeshadow.             3.333  \n",
       "4431        Has Nasa discovered water on Mars?             2.000  \n",
       "4060  Ban to review Syria chemical arms accord             3.600  "
      ]
     },
     "metadata": {},
     "output_type": "display_data"
    },
    {
     "name": "stdout",
     "output_type": "stream",
     "text": [
      "\n",
      "Teste:\n"
     ]
    },
    {
     "data": {
      "text/html": [
       "<div>\n",
       "<style scoped>\n",
       "    .dataframe tbody tr th:only-of-type {\n",
       "        vertical-align: middle;\n",
       "    }\n",
       "\n",
       "    .dataframe tbody tr th {\n",
       "        vertical-align: top;\n",
       "    }\n",
       "\n",
       "    .dataframe thead th {\n",
       "        text-align: right;\n",
       "    }\n",
       "</style>\n",
       "<table border=\"1\" class=\"dataframe\">\n",
       "  <thead>\n",
       "    <tr style=\"text-align: right;\">\n",
       "      <th></th>\n",
       "      <th>id</th>\n",
       "      <th>sentence1</th>\n",
       "      <th>sentence2</th>\n",
       "    </tr>\n",
       "  </thead>\n",
       "  <tbody>\n",
       "    <tr>\n",
       "      <th>0</th>\n",
       "      <td>0</td>\n",
       "      <td>A man is singing and playing a guitar.</td>\n",
       "      <td>A man is playing a guitar.</td>\n",
       "    </tr>\n",
       "    <tr>\n",
       "      <th>1</th>\n",
       "      <td>1</td>\n",
       "      <td>Suarez set for Cup comeback</td>\n",
       "      <td>French set for Mali ground combat</td>\n",
       "    </tr>\n",
       "    <tr>\n",
       "      <th>2</th>\n",
       "      <td>2</td>\n",
       "      <td>It's not a good idea.</td>\n",
       "      <td>It's a good question.</td>\n",
       "    </tr>\n",
       "  </tbody>\n",
       "</table>\n",
       "</div>"
      ],
      "text/plain": [
       "   id                               sentence1  \\\n",
       "0   0  A man is singing and playing a guitar.   \n",
       "1   1             Suarez set for Cup comeback   \n",
       "2   2                   It's not a good idea.   \n",
       "\n",
       "                           sentence2  \n",
       "0         A man is playing a guitar.  \n",
       "1  French set for Mali ground combat  \n",
       "2              It's a good question.  "
      ]
     },
     "metadata": {},
     "output_type": "display_data"
    },
    {
     "name": "stdout",
     "output_type": "stream",
     "text": [
      "\n",
      "Ground Truth:\n"
     ]
    },
    {
     "data": {
      "text/html": [
       "<div>\n",
       "<style scoped>\n",
       "    .dataframe tbody tr th:only-of-type {\n",
       "        vertical-align: middle;\n",
       "    }\n",
       "\n",
       "    .dataframe tbody tr th {\n",
       "        vertical-align: top;\n",
       "    }\n",
       "\n",
       "    .dataframe thead th {\n",
       "        text-align: right;\n",
       "    }\n",
       "</style>\n",
       "<table border=\"1\" class=\"dataframe\">\n",
       "  <thead>\n",
       "    <tr style=\"text-align: right;\">\n",
       "      <th></th>\n",
       "      <th>id</th>\n",
       "      <th>predictions</th>\n",
       "    </tr>\n",
       "  </thead>\n",
       "  <tbody>\n",
       "    <tr>\n",
       "      <th>0</th>\n",
       "      <td>0</td>\n",
       "      <td>3.6</td>\n",
       "    </tr>\n",
       "    <tr>\n",
       "      <th>1</th>\n",
       "      <td>1</td>\n",
       "      <td>0.8</td>\n",
       "    </tr>\n",
       "    <tr>\n",
       "      <th>2</th>\n",
       "      <td>2</td>\n",
       "      <td>0.0</td>\n",
       "    </tr>\n",
       "  </tbody>\n",
       "</table>\n",
       "</div>"
      ],
      "text/plain": [
       "   id  predictions\n",
       "0   0          3.6\n",
       "1   1          0.8\n",
       "2   2          0.0"
      ]
     },
     "metadata": {},
     "output_type": "display_data"
    },
    {
     "name": "stdout",
     "output_type": "stream",
     "text": [
      "\n",
      "Sample Submission:\n"
     ]
    },
    {
     "data": {
      "text/html": [
       "<div>\n",
       "<style scoped>\n",
       "    .dataframe tbody tr th:only-of-type {\n",
       "        vertical-align: middle;\n",
       "    }\n",
       "\n",
       "    .dataframe tbody tr th {\n",
       "        vertical-align: top;\n",
       "    }\n",
       "\n",
       "    .dataframe thead th {\n",
       "        text-align: right;\n",
       "    }\n",
       "</style>\n",
       "<table border=\"1\" class=\"dataframe\">\n",
       "  <thead>\n",
       "    <tr style=\"text-align: right;\">\n",
       "      <th></th>\n",
       "      <th>id</th>\n",
       "      <th>predictions</th>\n",
       "    </tr>\n",
       "  </thead>\n",
       "  <tbody>\n",
       "    <tr>\n",
       "      <th>0</th>\n",
       "      <td>0</td>\n",
       "      <td>0.0</td>\n",
       "    </tr>\n",
       "    <tr>\n",
       "      <th>1</th>\n",
       "      <td>1</td>\n",
       "      <td>0.0</td>\n",
       "    </tr>\n",
       "    <tr>\n",
       "      <th>2</th>\n",
       "      <td>2</td>\n",
       "      <td>0.0</td>\n",
       "    </tr>\n",
       "  </tbody>\n",
       "</table>\n",
       "</div>"
      ],
      "text/plain": [
       "   id  predictions\n",
       "0   0          0.0\n",
       "1   1          0.0\n",
       "2   2          0.0"
      ]
     },
     "metadata": {},
     "output_type": "display_data"
    }
   ],
   "source": [
    "print('Treino:')\n",
    "display(df_train.head(3))\n",
    "print('\\nTeste:')\n",
    "display(df_test_public.head(3))\n",
    "print('\\nGround Truth:')\n",
    "display(df_ground_truth.head(3))\n",
    "print('\\nSample Submission:')\n",
    "display(sample_submission.head(3))"
   ]
  },
  {
   "cell_type": "markdown",
   "id": "02b43994",
   "metadata": {},
   "source": [
    "## ✅ Conclusão\n",
    "\n",
    "Os datasets foram gerados e seguem a seguinte estrutura:\n",
    "\n",
    "```\n",
    "train.csv          → treino supervisionado\n",
    "test.csv           → ids e pares de sentenças (sem labels)\n",
    "ground_truth.csv   → ids e respostas corretas\n",
    "sample_submission.csv → estrutura que os alunos devem gerar\n",
    "```"
   ]
  }
 ],
 "metadata": {
  "kernelspec": {
   "display_name": "venv (3.12.3)",
   "language": "python",
   "name": "python3"
  },
  "language_info": {
   "codemirror_mode": {
    "name": "ipython",
    "version": 3
   },
   "file_extension": ".py",
   "mimetype": "text/x-python",
   "name": "python",
   "nbconvert_exporter": "python",
   "pygments_lexer": "ipython3",
   "version": "3.12.3"
  }
 },
 "nbformat": 4,
 "nbformat_minor": 5
}
